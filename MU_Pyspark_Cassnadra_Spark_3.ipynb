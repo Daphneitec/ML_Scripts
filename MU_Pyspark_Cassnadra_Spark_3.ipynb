{
 "cells": [
  {
   "cell_type": "code",
   "execution_count": 2,
   "metadata": {},
   "outputs": [
    {
     "name": "stdout",
     "output_type": "stream",
     "text": [
      "+-------------+------+\n",
      "|partition_key| count|\n",
      "+-------------+------+\n",
      "|      1552020|270579|\n",
      "|      1552019|750294|\n",
      "+-------------+------+\n",
      "\n"
     ]
    }
   ],
   "source": [
    "import os\n",
    "os.environ['PYSPARK_SUBMIT_ARGS'] = '--master spark://iahlvldpt002.logistics.corp:7077 --packages com.datastax.spark:spark-cassandra-connector_2.12:3.0.0  pyspark-shell'\n",
    "\n",
    "\n",
    "from pyspark import SparkContext\n",
    "from pyspark.conf import SparkConf\n",
    "from pyspark.sql import SQLContext, SparkSession\n",
    "\n",
    "\n",
    "\n",
    "spark = SparkSession.builder \\\n",
    "    .appName('SparkCassandraApp155_Count') \\\n",
    "    .config('spark.cassandra.connection.host', 'iaheast-elassandra.logistics.corp') \\\n",
    "    .config('spark.cassandra.connection.port', '9042') \\\n",
    "    .config('spark.cassandra.auth.username','dev_mlaifm') \\\n",
    "    .config('spark.cassandra.auth.password','dev_mlaifm') \\\n",
    "    .config('spark.cassandra.output.consistency.level','ONE') \\\n",
    "    .config('spark.cassandra.connection.timeoutBeforeCloseMS','12000000') \\\n",
    "    .config('spark.cassandra.read.timeoutMS','12000000') \\\n",
    "    .config('spark.cassandra.connection.timeoutMS','12000000') \\\n",
    "    .config('spark.cores.max','5') \\\n",
    "    .config('spark.sql.catalog.myCatalog','com.datastax.spark.connector.datasource.CassandraCatalog') \\\n",
    "    .master('spark://iahlvldpt002.logistics.corp:7077') \\\n",
    "    .getOrCreate()\n",
    "\n",
    "#spark.cassandra.connection.reconnectionDelayMS.max\n",
    "\n",
    "sqlContext = SQLContext(spark)\n",
    "ds = sqlContext \\\n",
    "  .read \\\n",
    "  .format('org.apache.spark.sql.cassandra') \\\n",
    "  .options(table='carrier_performance_155', keyspace='ml_ai_forecast_model') \\\n",
    "  .load()\n",
    "#df.show(50000)\n",
    "\n",
    "#ds.groupBy('location_type').count().show()  \n",
    "#df.where('id = 1').count()\n",
    "#myCnt=ds.where('partition_key = 1552020').count()\n",
    "#print(myCnt)\n",
    "ds.groupBy('partition_key').count().show() \n",
    "\n",
    "\n",
    "\n",
    "\n",
    "\n",
    "\n",
    "\n",
    "\n",
    "\n",
    "\n"
   ]
  },
  {
   "cell_type": "code",
   "execution_count": null,
   "metadata": {},
   "outputs": [],
   "source": []
  }
 ],
 "metadata": {
  "kernelspec": {
   "display_name": "Python 3",
   "language": "python",
   "name": "python3"
  },
  "language_info": {
   "codemirror_mode": {
    "name": "ipython",
    "version": 3
   },
   "file_extension": ".py",
   "mimetype": "text/x-python",
   "name": "python",
   "nbconvert_exporter": "python",
   "pygments_lexer": "ipython3",
   "version": "3.6.8"
  }
 },
 "nbformat": 4,
 "nbformat_minor": 4
}
