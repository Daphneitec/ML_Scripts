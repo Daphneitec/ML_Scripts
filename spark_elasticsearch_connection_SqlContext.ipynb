{
 "cells": [
  {
   "cell_type": "code",
   "execution_count": 1,
   "metadata": {},
   "outputs": [],
   "source": [
    "import os\n",
    "os.environ['PYSPARK_SUBMIT_ARGS'] = '--master spark://iahlvldpt002.logistics.corp:7077 --jars elasticsearch-spark-20_2.12-7.12.0.jar --conf spark.es.nodes=\"https://avengers-elassandra.kac.logistics.corp:443\"  pyspark-shell'\n",
    "\n",
    "import pyspark\n",
    "\n",
    "from pyspark import SparkContext\n",
    "from pyspark.conf import SparkConf\n",
    "\n",
    "from pyspark.sql import SQLContext, SparkSession\n",
    "from pyspark.sql.functions import desc, max,count, avg\n",
    "            \n",
    "spark = SparkSession.builder \\\n",
    "    .appName('Spark Elasticsearch Test') \\\n",
    "    .config('es.nodes', 'https://avengers-elassandra.kac.logistics.corp:443') \\\n",
    "    .config('es.port', '443') \\\n",
    "    .config('es.nodes.discovery','false') \\\n",
    "    .config('es.resource','ml_ai_forecast_model_master_address_v2/master_address_v2') \\\n",
    "    .config('es.nodes.wan.only','true') \\\n",
    "    .config('es.net.http.auth.user','mlai') \\\n",
    "    .config('es.net.http.auth.pass','mlai') \\\n",
    "    .config('spark.cores.max','3') \\\n",
    "    .master('spark://iahlvldpt002.logistics.corp:7077') \\\n",
    "    .getOrCreate()\n",
    "\n",
    "sqlContext = SQLContext(spark)\n",
    "\n",
    "df = sqlContext \\\n",
    "     .read \\\n",
    "     .format(\"org.elasticsearch.spark.sql\")\\\n",
    "     .load(\"ml_ai_forecast_model_master_address_v2/master_address_v2\")\n"
   ]
  },
  {
   "cell_type": "code",
   "execution_count": 2,
   "metadata": {},
   "outputs": [
    {
     "name": "stdout",
     "output_type": "stream",
     "text": [
      "+-------------+------------+-------+\n",
      "|      country|      m_city|m_state|\n",
      "+-------------+------------+-------+\n",
      "|United States|       Gilby|     ND|\n",
      "|United States|      Naples|     FL|\n",
      "|United States|  Two Buttes|     CO|\n",
      "|United States|Forest River|     ND|\n",
      "|United States|      Mantua|     OH|\n",
      "|United States|   Broadford|     VA|\n",
      "|United States|      Lackey|     VA|\n",
      "|United States|  Oak Forest|     IL|\n",
      "|United States|  Happy Jack|     AZ|\n",
      "|United States|     Tremont|     IL|\n",
      "|United States| River Grove|     IL|\n",
      "|United States|     Hawkeye|     IA|\n",
      "|United States|   Luna Pier|     MI|\n",
      "|United States|       Selma|     CA|\n",
      "|United States|  Valparaiso|     IN|\n",
      "|United States|  Tawas City|     MI|\n",
      "|United States|   Kittredge|     CO|\n",
      "|United States|   New Haven|     VT|\n",
      "|United States|   Voluntown|     CT|\n",
      "|United States|      Pueblo|     CO|\n",
      "+-------------+------------+-------+\n",
      "only showing top 20 rows\n",
      "\n"
     ]
    }
   ],
   "source": [
    "df.show()\n",
    "\n"
   ]
  }
 ],
 "metadata": {
  "kernelspec": {
   "display_name": "Python 3",
   "language": "python",
   "name": "python3"
  },
  "language_info": {
   "codemirror_mode": {
    "name": "ipython",
    "version": 3
   },
   "file_extension": ".py",
   "mimetype": "text/x-python",
   "name": "python",
   "nbconvert_exporter": "python",
   "pygments_lexer": "ipython3",
   "version": "3.6.8"
  }
 },
 "nbformat": 4,
 "nbformat_minor": 4
}
