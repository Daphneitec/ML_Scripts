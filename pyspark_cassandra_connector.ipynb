{
 "cells": [
  {
   "cell_type": "code",
   "execution_count": null,
   "metadata": {},
   "outputs": [],
   "source": [
    "import os\n",
    "os.environ['PYSPARK_SUBMIT_ARGS'] = '--master spark://iahlvldpt002.logistics.corp:7077 --packages com.datastax.spark:spark-cassandra-connector_2.12:3.0.0  pyspark-shell'\n",
    "\n",
    "#import findspark\n",
    "#findspark.init(\"/local/spark-3.0.1-bin-hadoop2.7\")\n",
    "from pyspark import SparkContext\n",
    "from pyspark.conf import SparkConf\n",
    "\n",
    "from pyspark.sql import SQLContext, SparkSession\n",
    "\n",
    "\n",
    "spark = SparkSession.builder \\\n",
    "    .appName('SparkCassandraApp_Python2') \\\n",
    "    .config('spark.cassandra.connection.host', 'iaheast-elassandra.logistics.corp') \\\n",
    "    .config('spark.cassandra.connection.port', '9042') \\\n",
    "    .config('spark.cassandra.auth.username','dev_mlaifm') \\\n",
    "    .config('spark.cassandra.auth.password','dev_mlaifm') \\\n",
    "    .config('spark.cassandra.output.consistency.level','ONE') \\\n",
    "    .config('spark.sql.catalog.myCatalog','com.datastax.spark.connector.datasource.CassandraCatalog') \\\n",
    "    .master('spark://iahlvldpt002.logistics.corp:7077') \\\n",
    "    .getOrCreate()\n",
    "\n",
    "\n",
    "#spark = SparkSession.builder \\\n",
    "#    .appName('SparkCassandraApp') \\\n",
    "#    .config('spark.cassandra.connection.host', 'iaheast-elassandra.logistics.corp') \\\n",
    "#    .config('spark.cassandra.connection.port', '9042') \\\n",
    "#    .config('spark.cassandra.output.consistency.level','ONE') \\\n",
    "#    .config(\"spark.cassandra.auth.username\",\"dev_mlaifm\") \\\n",
    "#    .config(\"spark.cassandra.auth.password\",\"dev_mlaifm\")  \n",
    "#    .master('iahlvldpt001.logistics.corp') \\\n",
    "#    .getOrCreate()\n",
    "\n",
    "#ds.stop()\n",
    "sqlContext = SQLContext(spark)\n",
    "ds = sqlContext \\\n",
    "  .read \\\n",
    "  .format('org.apache.spark.sql.cassandra') \\\n",
    "  .options(table='fss_ap_ar_224', keyspace='ml_ai_forecast_model') \\\n",
    "  .load()\n",
    "\n",
    "ds.show(10)  \n",
    "\n",
    "\n",
    "\n",
    "\n",
    "\n",
    "\n",
    "\n",
    "\n",
    "\n",
    "\n",
    "\n",
    "\n",
    "\n",
    "\n",
    "\n"
   ]
  },
  {
   "cell_type": "code",
   "execution_count": null,
   "metadata": {},
   "outputs": [],
   "source": []
  }
 ],
 "metadata": {
  "kernelspec": {
   "display_name": "Python 2",
   "language": "python",
   "name": "python2"
  },
  "language_info": {
   "codemirror_mode": {
    "name": "ipython",
    "version": 3
   },
   "file_extension": ".py",
   "mimetype": "text/x-python",
   "name": "python",
   "nbconvert_exporter": "python",
   "pygments_lexer": "ipython3",
   "version": "3.6.8"
  }
 },
 "nbformat": 4,
 "nbformat_minor": 2
}
